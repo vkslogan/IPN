{
  "nbformat": 4,
  "nbformat_minor": 0,
  "metadata": {
    "kernelspec": {
      "display_name": "Python 3",
      "language": "python",
      "name": "python3"
    },
    "language_info": {
      "codemirror_mode": {
        "name": "ipython",
        "version": 3
      },
      "file_extension": ".py",
      "mimetype": "text/x-python",
      "name": "python",
      "nbconvert_exporter": "python",
      "pygments_lexer": "ipython3",
      "version": "3.7.4"
    },
    "colab": {
      "name": "Files_Exeptions.ipynb",
      "provenance": [],
      "toc_visible": true,
      "include_colab_link": true
    }
  },
  "cells": [
    {
      "cell_type": "markdown",
      "metadata": {
        "id": "view-in-github",
        "colab_type": "text"
      },
      "source": [
        "<a href=\"https://colab.research.google.com/github/vkslogan/Cuarentena/blob/master/Files_Exeptions.ipynb\" target=\"_parent\"><img src=\"https://colab.research.google.com/assets/colab-badge.svg\" alt=\"Open In Colab\"/></a>"
      ]
    },
    {
      "cell_type": "markdown",
      "metadata": {
        "id": "Y1MZSbYweTck",
        "colab_type": "text"
      },
      "source": [
        "## Ejercicios\n",
        "\n",
        "En la carpeta de `ArchivosExternos` se encuentra un archivo `apellidos-es.txt`, abrir y leer el archivo, pedir al usuario un nombre y un apellido, el programa debe de buscar en la lista de nombres si el nombre se encuentra, tambiénd debe de hacer lo mismo con los apellidos, sólo si se localizan el nombre y apellido, la búsqueda será exitosa y deberá mostrar la posición del nombre y la posición del apellido."
      ]
    },
    {
      "cell_type": "code",
      "metadata": {
        "id": "0Ca1WQmrniC4",
        "colab_type": "code",
        "colab": {
          "base_uri": "https://localhost:8080/",
          "height": 85
        },
        "outputId": "ed835443-6a1a-4b93-ca2b-19127c876fd8"
      },
      "source": [
        "apellido='/content/drive/My Drive/IPN/Programacion/Files_Exeptions/ArchivosExternos/apellidos-es.txt'\n",
        "nombre='/content/drive/My Drive/IPN/Programacion/Files_Exeptions/ArchivosExternos/nombres-propios-es.txt'\n",
        "with open(apellido) as apellidos:\n",
        "    lines = apellidos.readlines()\n",
        "\n",
        "surname= input(\"Introduce el apellido a buscar: \")\n",
        "surname_search=surname.title() + '\\n'\n",
        "found = False\n",
        "\n",
        "for i in range(len(lines)):\n",
        "    if surname_search == lines[i]:\n",
        "        print(\"El apellido: \" + surname + \" se encontró en la posición: \" + str(i))\n",
        "        found = True\n",
        "        break;\n",
        "\n",
        "if not found:\n",
        "    print(\"El nombre no se encuentra en la lista\")\n",
        "\n",
        "with open (nombre) as nombres:\n",
        "    lines= nombres.readlines()\n",
        "names=input(\"Introduce el nombre a buscar: \")\n",
        "names_search=names.title() +'\\n'\n",
        "found = False\n",
        "    \n",
        "for i in range(len(lines)):\n",
        "    if names_search == lines[i]:\n",
        "        print(\"El nombre: \" + names + \" se encontró en la posición: \" + str(i))\n",
        "        found = True\n",
        "        break;\n",
        "\n",
        "if not found:\n",
        "    print(\"El nombre no se encuentra en la lista\")"
      ],
      "execution_count": 3,
      "outputs": [
        {
          "output_type": "stream",
          "text": [
            "Introduce el apellido a buscar: Abel\n",
            "El nombre no se encuentra en la lista\n",
            "Introduce el nombre a buscar: Abel\n",
            "El nombre: Abel se encontró en la posición: 2\n"
          ],
          "name": "stdout"
        }
      ]
    },
    {
      "cell_type": "markdown",
      "metadata": {
        "id": "BFAZQz0ZeTc4",
        "colab_type": "text"
      },
      "source": [
        "## Ejercicios\n",
        "\n",
        "1. Cree un programa que se le pida a un usuario su nombre y boleta, guádelo en un archivo llamado `usuarios.txt`\n",
        "2. Genere un programa que lea 15 usuarios con sus 15 boletas, los datos del usuario y boletas, se deben de agregar al archivo `usuarios.txt`.\n",
        "3. Genere un programa que una vez que haya leído los 15 usuarios debe de revisar que no haya nombres y boletas repetidas, en caso de ser así, se deben de borrar de la lista  y los nombres y boletas resultantes deben de guardarse en un archivo `usuarios_filtrados.txt`"
      ]
    },
    {
      "cell_type": "code",
      "metadata": {
        "id": "K1tbeIhOpeB8",
        "colab_type": "code",
        "colab": {
          "base_uri": "https://localhost:8080/",
          "height": 68
        },
        "outputId": "e6a82a73-2047-4105-c868-2fa7824bd8f1"
      },
      "source": [
        "users= '/content/drive/My Drive/IPN/Programacion/Files_Exeptions/ArchivosExternos/usuarios.txt'\n",
        "with open (users,'a') as registro:\n",
        "  \n",
        "  registro.write(input(\"\\n Ingresa  tu nombre completo por apellidos:  \"))\n",
        "  registro.write(\"--\")\n",
        "  registro.write(input(\"Ingresa tu número de boleta: \"))\n",
        "  registro.write('\\n')"
      ],
      "execution_count": 10,
      "outputs": [
        {
          "output_type": "stream",
          "text": [
            "\n",
            " Ingresa  tu nombre completo por apellidos:  REYES LÓPEZ KERVIN LOGAN\n",
            "Ingresa tu número de boleta: 2020302270\n"
          ],
          "name": "stdout"
        }
      ]
    },
    {
      "cell_type": "code",
      "metadata": {
        "id": "PLNO_iF-tJZ8",
        "colab_type": "code",
        "colab": {
          "base_uri": "https://localhost:8080/",
          "height": 289
        },
        "outputId": "fa06ebdc-4d79-4558-c3ff-44cdf5b77934"
      },
      "source": [
        "users='/content/drive/My Drive/IPN/Programacion/Files_Exeptions/ArchivosExternos/usuarios.txt'\n",
        "with open (users) as registro:\n",
        "  a=registro.read()\n",
        "  print(a)"
      ],
      "execution_count": 12,
      "outputs": [
        {
          "output_type": "stream",
          "text": [
            "DIAZ LÃ“PEZ EDGAR--2020304050\n",
            "ACUÃ‘A LOPEZ KAROL JULIANA--2020307688\n",
            "BARAJAS GOMEZ JULIAN FERLEY--2020405676\n",
            "BARRETO RUZ VEYKER ALDAIR--2020348185\n",
            "GONZALEZ SANDOVAL LAURA DANIELA--2020393044\n",
            "GUTIERREZ RODRIGUEZ GABRIELA--2020302013\n",
            "HERNANDEZ ASTRO JHONYER DAVID--2020786705\n",
            "BARRETO RUZ VEYKER ALDAIR--2020302030\n",
            "Barjas  Estrada  Daniela--2020908845\n",
            "BASTO PICO KAREN DAYANA--2020440278\n",
            "BERMUDEZ DELGADO KAREN YULIANA --2030302911\n",
            "VALDOVINOS HERNANDEZ JAZMIN--2020202122\n",
            "HERNANDEZ RIVERA EDGAR STEVEN--2020205633\n",
            "\n",
            "REYES LÓPEZ KERVIN LOGAN--2020302270\n",
            "\n"
          ],
          "name": "stdout"
        }
      ]
    },
    {
      "cell_type": "code",
      "metadata": {
        "id": "DVac4izIul75",
        "colab_type": "code",
        "colab": {}
      },
      "source": [
        "users='usuarios.txt'\n",
        "f='usuario_filtrados.txt'\n",
        "\n",
        "with open (users,'r+') as registro:\n",
        "  lines=list(regis.readlines())\n",
        "\n",
        "with open (f,'r+') as new:\n",
        "  doc=list(new.readlines())\n",
        "\n",
        "for line in lines:\n",
        "  if line not in doc:\n",
        "    doc.append(line)\n",
        "\n",
        "print(doc)"
      ],
      "execution_count": null,
      "outputs": []
    },
    {
      "cell_type": "markdown",
      "metadata": {
        "id": "Jn9cSviVeTdZ",
        "colab_type": "text"
      },
      "source": [
        "## Ejercicios\n",
        "1. Uno de los problemas mas comunes cuando se piden datos a través del teclado es que el eusuario introduce texto en vez de números. Cuando se trata de convertir la entrada entero, se genera un `TypeError`. Escriba un programa que reciba dos números. Que los sume y que muestre el resutlado. Maneje ej error `TypeError` a través de excepciones de tal manera que cuando el usuario introduzca texto en vez de núero se muestre un error y se vuela repetir el programa como el caso de la división. \n",
        "\n",
        "\n",
        "2. Perros y gatos. Gener dos archivos, uno que se llame `gatos.txt`y otro que se llame `perros.txt` en cada uno ingrese el nombre de 3 animales, haga un porgrama que sea capaz de mostrar en pantalla el nombre de los gatos y que después le pida al usuario que ingrese otros 3 nombres de gatos. Lo mismo tiene que hacer con los nombres de perros"
      ]
    },
    {
      "cell_type": "code",
      "metadata": {
        "id": "mngtnSUDu_rv",
        "colab_type": "code",
        "colab": {
          "base_uri": "https://localhost:8080/",
          "height": 833
        },
        "outputId": "16dd781b-0091-4d1e-b820-5459c05547eb"
      },
      "source": [
        "print(\"Digite dos números por separado: \")\n",
        "print(\"Presione 's' para salir: \")\n",
        "\n",
        "while True:\n",
        "    fn = input('\\nPrimer Digito: ')\n",
        "    if fn == 's':\n",
        "        break\n",
        "    sn = input(\"Segundo Digito: \")\n",
        "    if sn == 's':\n",
        "        break\n",
        "    \n",
        "    try:\n",
        "        answer = int(fn) + int(sn)\n",
        "    except ValueError:\n",
        "        print(\"Solo deben Digitarse números\")\n",
        "    else:\n",
        "        print(answer);"
      ],
      "execution_count": 15,
      "outputs": [
        {
          "output_type": "stream",
          "text": [
            "Digite dos números por separado: \n",
            "Presione 's' para salir: \n",
            "\n",
            "Primer Digito: 52\n",
            "Segundo Digito: 41\n",
            "93\n",
            "\n",
            "Primer Digito: 100\n",
            "Segundo Digito: uno\n",
            "Solo deben Digitarse números\n",
            "\n",
            "Primer Digito: 5\n",
            "Segundo Digito: -50\n",
            "-45\n",
            "\n",
            "Primer Digito: -5\n",
            "Segundo Digito: -8\n",
            "-13\n"
          ],
          "name": "stdout"
        },
        {
          "output_type": "error",
          "ename": "KeyboardInterrupt",
          "evalue": "ignored",
          "traceback": [
            "\u001b[0;31m---------------------------------------------------------------------------\u001b[0m",
            "\u001b[0;31mKeyboardInterrupt\u001b[0m                         Traceback (most recent call last)",
            "\u001b[0;32m/usr/local/lib/python3.6/dist-packages/ipykernel/kernelbase.py\u001b[0m in \u001b[0;36m_input_request\u001b[0;34m(self, prompt, ident, parent, password)\u001b[0m\n\u001b[1;32m    728\u001b[0m             \u001b[0;32mtry\u001b[0m\u001b[0;34m:\u001b[0m\u001b[0;34m\u001b[0m\u001b[0;34m\u001b[0m\u001b[0m\n\u001b[0;32m--> 729\u001b[0;31m                 \u001b[0mident\u001b[0m\u001b[0;34m,\u001b[0m \u001b[0mreply\u001b[0m \u001b[0;34m=\u001b[0m \u001b[0mself\u001b[0m\u001b[0;34m.\u001b[0m\u001b[0msession\u001b[0m\u001b[0;34m.\u001b[0m\u001b[0mrecv\u001b[0m\u001b[0;34m(\u001b[0m\u001b[0mself\u001b[0m\u001b[0;34m.\u001b[0m\u001b[0mstdin_socket\u001b[0m\u001b[0;34m,\u001b[0m \u001b[0;36m0\u001b[0m\u001b[0;34m)\u001b[0m\u001b[0;34m\u001b[0m\u001b[0;34m\u001b[0m\u001b[0m\n\u001b[0m\u001b[1;32m    730\u001b[0m             \u001b[0;32mexcept\u001b[0m \u001b[0mException\u001b[0m\u001b[0;34m:\u001b[0m\u001b[0;34m\u001b[0m\u001b[0;34m\u001b[0m\u001b[0m\n",
            "\u001b[0;32m/usr/local/lib/python3.6/dist-packages/jupyter_client/session.py\u001b[0m in \u001b[0;36mrecv\u001b[0;34m(self, socket, mode, content, copy)\u001b[0m\n\u001b[1;32m    802\u001b[0m         \u001b[0;32mtry\u001b[0m\u001b[0;34m:\u001b[0m\u001b[0;34m\u001b[0m\u001b[0;34m\u001b[0m\u001b[0m\n\u001b[0;32m--> 803\u001b[0;31m             \u001b[0mmsg_list\u001b[0m \u001b[0;34m=\u001b[0m \u001b[0msocket\u001b[0m\u001b[0;34m.\u001b[0m\u001b[0mrecv_multipart\u001b[0m\u001b[0;34m(\u001b[0m\u001b[0mmode\u001b[0m\u001b[0;34m,\u001b[0m \u001b[0mcopy\u001b[0m\u001b[0;34m=\u001b[0m\u001b[0mcopy\u001b[0m\u001b[0;34m)\u001b[0m\u001b[0;34m\u001b[0m\u001b[0;34m\u001b[0m\u001b[0m\n\u001b[0m\u001b[1;32m    804\u001b[0m         \u001b[0;32mexcept\u001b[0m \u001b[0mzmq\u001b[0m\u001b[0;34m.\u001b[0m\u001b[0mZMQError\u001b[0m \u001b[0;32mas\u001b[0m \u001b[0me\u001b[0m\u001b[0;34m:\u001b[0m\u001b[0;34m\u001b[0m\u001b[0;34m\u001b[0m\u001b[0m\n",
            "\u001b[0;32m/usr/local/lib/python3.6/dist-packages/zmq/sugar/socket.py\u001b[0m in \u001b[0;36mrecv_multipart\u001b[0;34m(self, flags, copy, track)\u001b[0m\n\u001b[1;32m    474\u001b[0m         \"\"\"\n\u001b[0;32m--> 475\u001b[0;31m         \u001b[0mparts\u001b[0m \u001b[0;34m=\u001b[0m \u001b[0;34m[\u001b[0m\u001b[0mself\u001b[0m\u001b[0;34m.\u001b[0m\u001b[0mrecv\u001b[0m\u001b[0;34m(\u001b[0m\u001b[0mflags\u001b[0m\u001b[0;34m,\u001b[0m \u001b[0mcopy\u001b[0m\u001b[0;34m=\u001b[0m\u001b[0mcopy\u001b[0m\u001b[0;34m,\u001b[0m \u001b[0mtrack\u001b[0m\u001b[0;34m=\u001b[0m\u001b[0mtrack\u001b[0m\u001b[0;34m)\u001b[0m\u001b[0;34m]\u001b[0m\u001b[0;34m\u001b[0m\u001b[0;34m\u001b[0m\u001b[0m\n\u001b[0m\u001b[1;32m    476\u001b[0m         \u001b[0;31m# have first part already, only loop while more to receive\u001b[0m\u001b[0;34m\u001b[0m\u001b[0;34m\u001b[0m\u001b[0;34m\u001b[0m\u001b[0m\n",
            "\u001b[0;32mzmq/backend/cython/socket.pyx\u001b[0m in \u001b[0;36mzmq.backend.cython.socket.Socket.recv\u001b[0;34m()\u001b[0m\n",
            "\u001b[0;32mzmq/backend/cython/socket.pyx\u001b[0m in \u001b[0;36mzmq.backend.cython.socket.Socket.recv\u001b[0;34m()\u001b[0m\n",
            "\u001b[0;32mzmq/backend/cython/socket.pyx\u001b[0m in \u001b[0;36mzmq.backend.cython.socket._recv_copy\u001b[0;34m()\u001b[0m\n",
            "\u001b[0;32m/usr/local/lib/python3.6/dist-packages/zmq/backend/cython/checkrc.pxd\u001b[0m in \u001b[0;36mzmq.backend.cython.checkrc._check_rc\u001b[0;34m()\u001b[0m\n",
            "\u001b[0;31mKeyboardInterrupt\u001b[0m: ",
            "\nDuring handling of the above exception, another exception occurred:\n",
            "\u001b[0;31mKeyboardInterrupt\u001b[0m                         Traceback (most recent call last)",
            "\u001b[0;32m<ipython-input-15-27d91fded630>\u001b[0m in \u001b[0;36m<module>\u001b[0;34m()\u001b[0m\n\u001b[1;32m      3\u001b[0m \u001b[0;34m\u001b[0m\u001b[0m\n\u001b[1;32m      4\u001b[0m \u001b[0;32mwhile\u001b[0m \u001b[0;32mTrue\u001b[0m\u001b[0;34m:\u001b[0m\u001b[0;34m\u001b[0m\u001b[0;34m\u001b[0m\u001b[0m\n\u001b[0;32m----> 5\u001b[0;31m     \u001b[0mfn\u001b[0m \u001b[0;34m=\u001b[0m \u001b[0minput\u001b[0m\u001b[0;34m(\u001b[0m\u001b[0;34m'\\nPrimer Digito: '\u001b[0m\u001b[0;34m)\u001b[0m\u001b[0;34m\u001b[0m\u001b[0;34m\u001b[0m\u001b[0m\n\u001b[0m\u001b[1;32m      6\u001b[0m     \u001b[0;32mif\u001b[0m \u001b[0mfn\u001b[0m \u001b[0;34m==\u001b[0m \u001b[0;34m's'\u001b[0m\u001b[0;34m:\u001b[0m\u001b[0;34m\u001b[0m\u001b[0;34m\u001b[0m\u001b[0m\n\u001b[1;32m      7\u001b[0m         \u001b[0;32mbreak\u001b[0m\u001b[0;34m\u001b[0m\u001b[0;34m\u001b[0m\u001b[0m\n",
            "\u001b[0;32m/usr/local/lib/python3.6/dist-packages/ipykernel/kernelbase.py\u001b[0m in \u001b[0;36mraw_input\u001b[0;34m(self, prompt)\u001b[0m\n\u001b[1;32m    702\u001b[0m             \u001b[0mself\u001b[0m\u001b[0;34m.\u001b[0m\u001b[0m_parent_ident\u001b[0m\u001b[0;34m,\u001b[0m\u001b[0;34m\u001b[0m\u001b[0;34m\u001b[0m\u001b[0m\n\u001b[1;32m    703\u001b[0m             \u001b[0mself\u001b[0m\u001b[0;34m.\u001b[0m\u001b[0m_parent_header\u001b[0m\u001b[0;34m,\u001b[0m\u001b[0;34m\u001b[0m\u001b[0;34m\u001b[0m\u001b[0m\n\u001b[0;32m--> 704\u001b[0;31m             \u001b[0mpassword\u001b[0m\u001b[0;34m=\u001b[0m\u001b[0;32mFalse\u001b[0m\u001b[0;34m,\u001b[0m\u001b[0;34m\u001b[0m\u001b[0;34m\u001b[0m\u001b[0m\n\u001b[0m\u001b[1;32m    705\u001b[0m         )\n\u001b[1;32m    706\u001b[0m \u001b[0;34m\u001b[0m\u001b[0m\n",
            "\u001b[0;32m/usr/local/lib/python3.6/dist-packages/ipykernel/kernelbase.py\u001b[0m in \u001b[0;36m_input_request\u001b[0;34m(self, prompt, ident, parent, password)\u001b[0m\n\u001b[1;32m    732\u001b[0m             \u001b[0;32mexcept\u001b[0m \u001b[0mKeyboardInterrupt\u001b[0m\u001b[0;34m:\u001b[0m\u001b[0;34m\u001b[0m\u001b[0;34m\u001b[0m\u001b[0m\n\u001b[1;32m    733\u001b[0m                 \u001b[0;31m# re-raise KeyboardInterrupt, to truncate traceback\u001b[0m\u001b[0;34m\u001b[0m\u001b[0;34m\u001b[0m\u001b[0;34m\u001b[0m\u001b[0m\n\u001b[0;32m--> 734\u001b[0;31m                 \u001b[0;32mraise\u001b[0m \u001b[0mKeyboardInterrupt\u001b[0m\u001b[0;34m\u001b[0m\u001b[0;34m\u001b[0m\u001b[0m\n\u001b[0m\u001b[1;32m    735\u001b[0m             \u001b[0;32melse\u001b[0m\u001b[0;34m:\u001b[0m\u001b[0;34m\u001b[0m\u001b[0;34m\u001b[0m\u001b[0m\n\u001b[1;32m    736\u001b[0m                 \u001b[0;32mbreak\u001b[0m\u001b[0;34m\u001b[0m\u001b[0;34m\u001b[0m\u001b[0m\n",
            "\u001b[0;31mKeyboardInterrupt\u001b[0m: "
          ]
        }
      ]
    },
    {
      "cell_type": "code",
      "metadata": {
        "id": "_W1QQxQ-wo2M",
        "colab_type": "code",
        "colab": {
          "base_uri": "https://localhost:8080/",
          "height": 527
        },
        "outputId": "e02835af-55b1-4573-f419-a33b86d9e6a3"
      },
      "source": [
        "Perro= '/content/drive/My Drive/IPN/Programacion/Files_Exeptions/ArchivosExternos/perros.txt'\n",
        "with open (Perro,'r+') as dog:\n",
        "  do=dog.read()\n",
        "  print(\"Nombre de cachorros\")\n",
        "  print(do)\n",
        "  dog.write(input(\"/nIngresa el nombre del cachorro: \"))\n",
        "  dog.write('\\n')\n",
        "  dog.write(input(\"Ingresa el nombre del cachorro: \"))\n",
        "  dog.write('\\n')\n",
        "  dog.write(input(\"Ingresa el nombre del cachorro: \"))\n",
        "  dog.write('\\n')\n",
        "with open (Perro,'r+') as Dog:\n",
        "  a=Dog.read()\n",
        "  print(\"Nombre de cachorros\")\n",
        "  print(a)\n",
        "\n",
        "\n",
        "Gato= '/content/drive/My Drive/IPN/Programacion/Files_Exeptions/ArchivosExternos/gatos.txt'\n",
        "with open (Gato,'r+') as cat:\n",
        "  do=cat.read()\n",
        "  print(\"Nombre de los mishis\")\n",
        "  print(do)\n",
        "  cat.write(input(\"/nIngresa el nombre del mishi: \"))\n",
        "  cat.write('\\n')\n",
        "  cat.write(input(\"Ingresa el nombre del mishi: \"))\n",
        "  cat.write('\\n')\n",
        "  cat.write(input(\"Ingresa el nombre del mishi: \"))\n",
        "  cat.write('\\n')\n",
        "with open (Gato,'r+') as Cat:\n",
        "  b=Cat.read()\n",
        "  print(\"Nombre de los mishis\")\n",
        "  print(b)"
      ],
      "execution_count": 16,
      "outputs": [
        {
          "output_type": "stream",
          "text": [
            "Nombre de cachorros\n",
            "Tyzon\n",
            "Cokis\n",
            "Monis\n",
            "Sherman\n",
            "Ingresa el nombre del cachorro: deisi\n",
            "Ingresa el nombre del cachorro: coffe\n",
            "Ingresa el nombre del cachorro: manchas\n",
            "Nombre de cachorros\n",
            "Tyzon\n",
            "Cokis\n",
            "Monis\n",
            "Shermandeisi\n",
            "coffe\n",
            "manchas\n",
            "\n",
            "Nombre de los mishis\n",
            "oronis\n",
            "faraon\n",
            "kitty\n",
            "Ingresa el nombre del mishi: gatubela\n",
            "Ingresa el nombre del mishi: dana\n",
            "Ingresa el nombre del mishi: bigotes\n",
            "Nombre de los mishis\n",
            "oronis\n",
            "faraon\n",
            "kittygatubela\n",
            "dana\n",
            "bigotes\n",
            "\n"
          ],
          "name": "stdout"
        }
      ]
    },
    {
      "cell_type": "code",
      "metadata": {
        "id": "a0jiUfrgei7F",
        "colab_type": "code",
        "colab": {
          "base_uri": "https://localhost:8080/",
          "height": 122
        },
        "outputId": "52051506-99b9-4854-c4eb-3d83806d8e34"
      },
      "source": [
        "from google.colab import drive\n",
        "drive.mount('/content/drive')"
      ],
      "execution_count": 1,
      "outputs": [
        {
          "output_type": "stream",
          "text": [
            "Go to this URL in a browser: https://accounts.google.com/o/oauth2/auth?client_id=947318989803-6bn6qk8qdgf4n4g3pfee6491hc0brc4i.apps.googleusercontent.com&redirect_uri=urn%3aietf%3awg%3aoauth%3a2.0%3aoob&response_type=code&scope=email%20https%3a%2f%2fwww.googleapis.com%2fauth%2fdocs.test%20https%3a%2f%2fwww.googleapis.com%2fauth%2fdrive%20https%3a%2f%2fwww.googleapis.com%2fauth%2fdrive.photos.readonly%20https%3a%2f%2fwww.googleapis.com%2fauth%2fpeopleapi.readonly\n",
            "\n",
            "Enter your authorization code:\n",
            "··········\n",
            "Mounted at /content/drive\n"
          ],
          "name": "stdout"
        }
      ]
    },
    {
      "cell_type": "code",
      "metadata": {
        "id": "Es4aR6ufeTdf",
        "colab_type": "code",
        "colab": {}
      },
      "source": [
        ""
      ],
      "execution_count": null,
      "outputs": []
    }
  ]
}