{
 "cells": [
  {
   "cell_type": "markdown",
   "metadata": {},
   "source": [
    "# 1. Funciones\n",
    "\n",
    "\n",
    "En esta sección se retoma la el concepto de funciones que son bloques de códigos que están desieñados para hacer un trabajo específico. Una vez que se desea reaizar una tarea que ya ha sido desarrollada dentro de función, simplemente se tiene que mandar a llamar o invocar a la función.\n",
    "\n",
    "En esta sección también se muestra cómo mandar información a una funcion diseñanada para procesar datos y  regresar algún valor o ejecutar algún comando. \n",
    "\n",
    "Finalmente se muestra como almacenar funciones en archivos separados llamandos *módulos* que ayudan a organizar mejor el programa principal."
   ]
  },
  {
   "cell_type": "markdown",
   "metadata": {},
   "source": [
    "## 1.1. Definiendo una función ##\n",
    "\n",
    "Aquí se muestra un ejemplo de una función llamada $\\verb|greet_user|$ que simplemente imprime en la terminal una saludo"
   ]
  },
  {
   "cell_type": "code",
   "execution_count": null,
   "metadata": {},
   "outputs": [],
   "source": [
    "########################################\n",
    "# CELDA 1 : Definición de una función  #\n",
    "########################################\n",
    "\n",
    "\n",
    "# Esta es la definición de una función\n",
    "def greet_user():\n",
    "    \"\"\"Mostrar un simple saludo.\"\"\"\n",
    "    print(\"Hola!\")\n",
    "\n",
    "\n",
    "# Ya estamos fuera de la función y se mandará a llamar\n",
    "greet_user()"
   ]
  },
  {
   "cell_type": "markdown",
   "metadata": {},
   "source": [
    "En este ejemplo se muestra la estructura más simple de una fucnión . En la línea $\\verb|1|$ se utiliza la palabra reservada $\\verb|def|$ para notificar al intérprete de Python que comienza una función, seguido de $\\verb|def|$ sigue el nombre de la función y después unos parétesis vacíos, estos paréntesis vacíos implican que la fución no recibe ninguna información par poder trabajar, después de los paréntesis van dos puntos, estos indican que el código que sigue a continuación es el cuerpo de la función. Observe que todas las líneas de código pertenecientes a la fución deben de guardar la misma sangría. \n",
    "\n",
    "\n",
    "### 1.1.1 Pasando información a la función\n",
    "\n",
    "La función anterior sólo puede decir Hola, a continuación se muestra una modificación a la función para que ésta pueda mostrar un saludo personalizado."
   ]
  },
  {
   "cell_type": "code",
   "execution_count": null,
   "metadata": {},
   "outputs": [],
   "source": [
    "#########################################\n",
    "# CELDA 2 : Paso de info a la función   #\n",
    "#########################################\n",
    "\n",
    "\n",
    "# Esta es la definición de una función \n",
    "def greet_user(username):\n",
    "    \"\"\" Mostrar un saludo personalizado\"\"\"\n",
    "    print(\"Hola \"+username.title()+\"!\")\n",
    "    \n",
    "#Ya estamos fuera de la función y se mandará a llamar\n",
    "greet_user(\"Juan Pérez\")"
   ]
  },
  {
   "cell_type": "markdown",
   "metadata": {},
   "source": [
    "### 1.1.2 Ejercicios\n",
    "\n",
    "#### 1.1.2.1.Mensaje.\n",
    "Escriba una función llamanda $\\verb|display_message()|$ que imprima en la pantalla un mensaje que indique los temas que se han visto hasta el momento.\n",
    "\n",
    "#### 1.1.2.2 Libro favorito.\n",
    "Escriba una función que se llame $\\verb|libro_favorito()|$ que acepte un parámetro llamado $\\verb|titulo|$ y que despligue en la terminal *Tu libro favorito es (nombre del libro)*"
   ]
  },
  {
   "cell_type": "markdown",
   "metadata": {},
   "source": [
    "## 1.2. Paso de argumentos\n",
    "\n",
    "En ocasiones una fución necesita múltiples parámetros, dentro de Python existen diferentes maneras de pasar los argumentos a una función, el uso y la implementación dependerá de la necesidad del usuario y programador.\n"
   ]
  },
  {
   "cell_type": "markdown",
   "metadata": {},
   "source": [
    "### 1.2.1 Argumentos Posicionales\n",
    "\n",
    "Ejecute las siguientes celdas y observe los resultados"
   ]
  },
  {
   "cell_type": "code",
   "execution_count": null,
   "metadata": {},
   "outputs": [],
   "source": [
    "#########################################\n",
    "# CELDA 3 : Descripción de mascota      #\n",
    "#########################################\n",
    "\n",
    "\n",
    "def descripcion_mascota(tipo_animal, nombre):\n",
    "    \"\"\"Muestra la información de una mascota.\"\"\"\n",
    "    print(\"\\nTengo un(a) \" + tipo_animal + \" como mascota.\")\n",
    "    print(\"Mi \" + tipo_animal +  \" se llama \" + nombre)"
   ]
  },
  {
   "cell_type": "code",
   "execution_count": null,
   "metadata": {},
   "outputs": [],
   "source": [
    "#########################################\n",
    "# CELDA 4 :                             #\n",
    "#########################################\n",
    "\n",
    "\n",
    "descripcion_mascota(\"perro\",\"Filemon\")"
   ]
  },
  {
   "cell_type": "code",
   "execution_count": null,
   "metadata": {},
   "outputs": [],
   "source": [
    "#########################################\n",
    "# CELDA 5 :                             #\n",
    "#########################################\n",
    "\n",
    "\n",
    "descripcion_mascota(\"Michi\",\"gato\")"
   ]
  },
  {
   "cell_type": "markdown",
   "metadata": {},
   "source": [
    "La función se llama $\\verb|descripcion_mascota|$ y se puede observar en su implementación en la *celda 3* observe que recibe dos parámetros que deben de ser de tipo *string*, e imprime la información referente a mascota, en la *celda 4 y 5* se manda a llamar la función y si se observa el resultado de la celda 4 los enunciados muestran coherencia, mientras que en la celda 5 son incoherentes. \n",
    "\n",
    "La diferncia entre las celdas fue el orden de los argumentos, en la celda 4 \"perro\" lo asinga a \"tipo de animal\" y \"Filemon\" lo asigna a nombre, mientras que en la celda 5 \"Michi\" lo asigna \"tipo de animal\", mientras que \"gato\" lo asinga a \"nombre\".\n",
    "\n",
    "A esta forma de mandar los parámetros en los que es de gran importancia el orden en que se mandan los mismos, se le conoce como **Argumentos posicionales**"
   ]
  },
  {
   "cell_type": "markdown",
   "metadata": {},
   "source": [
    "### 1.2.2 Argumentos \"Keyword\"\n",
    "\n",
    "Ejecute la *celda 3* y depués las *celda 6 y 7*"
   ]
  },
  {
   "cell_type": "code",
   "execution_count": null,
   "metadata": {},
   "outputs": [],
   "source": [
    "#########################################\n",
    "# CELDA 6 :                             #\n",
    "#########################################\n",
    "\n",
    "\n",
    "descripcion_mascota(tipo_animal = \"hamster\",nombre = \"Harry\")"
   ]
  },
  {
   "cell_type": "code",
   "execution_count": null,
   "metadata": {
    "scrolled": true
   },
   "outputs": [],
   "source": [
    "#########################################\n",
    "# CELDA 7 :                             #\n",
    "#########################################\n",
    "\n",
    "\n",
    "descripcion_mascota(nombre = \"Cuco\",tipo_animal = \"Hurón\")"
   ]
  },
  {
   "cell_type": "markdown",
   "metadata": {},
   "source": [
    "Observe que ahora el orden de los argumentos no importa, esto se debe a que desde que se manda a llamar la función se hace la asignación a los variables locales de la función. Es de gran importancia que note que la implementación de la función no cambió en nada, los cambios se deben de hacer al momento de llamar la función."
   ]
  },
  {
   "cell_type": "markdown",
   "metadata": {},
   "source": [
    "## 1.2.3 Valores predeterminados\n",
    "\n",
    "En la definición de las funciones se puede definir valores predeterminados para los parámetros. Si un parámetro se manda desde la llamada de la función Python utiliza el valor que se ha mandado en la invocación de la función y deshecha el predeterminado, sino se ha manda el parámetro desde la llamada de la función entonces se utilizará el valor predeterminado. Observe el código de las celda 8 y ejecute la celda para observar el comportamiento de la misma."
   ]
  },
  {
   "cell_type": "code",
   "execution_count": null,
   "metadata": {},
   "outputs": [],
   "source": [
    "#########################################\n",
    "# CELDA 8 : Valores predeterminados     #\n",
    "#########################################\n",
    "def descripcion_mascota(nombre,tipo_animal = \"perro\"):\n",
    "    \"\"\"Muestra la información de una mascota\"\"\"\n",
    "    print(\"\\nUsted tiene un@ \" + tipo_animal +\".\" )\n",
    "    print(\"Mi \" + tipo_animal + \" se llama \" + nombre.title() +\".\")\n",
    "\n",
    "descripcion_mascota(nombre=\"Orejas\")"
   ]
  },
  {
   "cell_type": "markdown",
   "metadata": {},
   "source": [
    "## 1.3 Ejercicios\n",
    "\n",
    "### 1.3.1 Playera\n",
    "\n",
    "Escriba una función llamanda $\\verb|hacerPlayera()|$ que acepte como argumento, el tamaño y un texto que apararecerá cerigrafeado en la playera. La función deberá imprimir en la terminal algo parecido a lo siguiente\n",
    "\n",
    "*La playera es talla \"Grande\" y el texto a cerigrafear es: \"Hola amigos\"*\n",
    "\n",
    "Para verificar el correcto funcionamiento de la función, genere un programa que la invoque. \n",
    "\n"
   ]
  },
  {
   "cell_type": "code",
   "execution_count": null,
   "metadata": {},
   "outputs": [],
   "source": [
    "####  Prgrama de Playeras  ###\n",
    "def hacerPlayera():\n",
    "    "
   ]
  },
  {
   "cell_type": "markdown",
   "metadata": {},
   "source": [
    "### 1.3.2 Playeras Grandes\n",
    "\n",
    "Modique la función $\\verb|hacerPlayera()|$ de tal manera que las playeras grandes sean predeterminadas y el texto predefinido para la cerigrafear sea $\\verb|yo <3 Python|$.\n",
    "\n",
    "Para verificar el correcto funcionamiento del módulo:\n",
    "\n",
    "1. Genere una playera grande utlizando el texto predeterminado.\n",
    "\n",
    "2. Genere una playera mediana con el texto predeterminado.\n",
    "\n",
    "3. Genere una playera de talla distnta a grande con un texto distinto al predeterminado.\n",
    "\n",
    "\n"
   ]
  },
  {
   "cell_type": "code",
   "execution_count": null,
   "metadata": {},
   "outputs": [],
   "source": [
    "###    Programa de Playeras grandes ###\n",
    "def hacerPlayera():"
   ]
  },
  {
   "cell_type": "markdown",
   "metadata": {},
   "source": [
    "### 1.3.2 Países y ciudades\n",
    "\n",
    "Escriba una función llamada $\\verb|descripcionCiudad()|$ que acepte como argumentos el nombre de una ciudad y el nombre de un país como argumentos y que imprima en la terminal un texto como: *Xalapa está en México*, *Río de Janeiro está en Brazil*, *París está en Fracia*. Ponga como valor predeterminado \"México\" a la variable país, y llame a la función tres veces donde por lo menos una ciudad no pertenezca al país México.\n",
    "\n"
   ]
  },
  {
   "cell_type": "code",
   "execution_count": null,
   "metadata": {},
   "outputs": [],
   "source": [
    "def descripcionCiudad():"
   ]
  },
  {
   "cell_type": "markdown",
   "metadata": {},
   "source": [
    "## 1.4 Valores de regreso\n",
    "\n",
    "## 1.4.1 Introducción.\n",
    "Una función no necesariamente tiene que imprimir texto o mostrar la información que recibe, usualmente, existen funciones que reciben argumentos, los procesan y después regresan al programa principal el o los datos modificados, a éstos datos que la función regresa al programa principal se le conoce como **valor de regreso** o **valor de retorno**, observe el código de la siguiente celda y su comportamiento, en la que se calcula el volumen de un cubo."
   ]
  },
  {
   "cell_type": "code",
   "execution_count": 2,
   "metadata": {},
   "outputs": [
    {
     "name": "stdout",
     "output_type": "stream",
     "text": [
      "El volumen de un cubo cuyos lados miden 4cm es: 64 cm^3\n"
     ]
    }
   ],
   "source": [
    "def volumenCubo(longitud_lado):\n",
    "    volumen = longitud_lado**3\n",
    "    return volumen\n",
    "\n",
    "print(\"El volumen de un cubo cuyos lados miden 4cm es: \" + str(volumenCubo(4)) + \" cm^3\")\n",
    "\n"
   ]
  },
  {
   "cell_type": "markdown",
   "metadata": {},
   "source": [
    "Observe que la función $\\verb|volumenCubo(longitud_lado):|$ recibe como argumento un número y dentro de la función eleva ese valor al cubo y lo asigna a la variable local $\\verb|volumen|$ y regresa el valor guardado en $\\verb|volumen|$"
   ]
  },
  {
   "cell_type": "markdown",
   "metadata": {},
   "source": [
    "## 1.5 Almacenando Funciones en Módulo\n",
    "\n",
    "Una ventaja de las funciones es que se pueden almacenar en archivos distintos de tal manera que el archivo principal no esté tan extenso y sea más sencillo de dar mantenimiento y poder depurar los errores, en otros lenguajes de programación como en C y C++ es equivalente las ilbrerías creadas por los usuarios.\n",
    "\n",
    "En la siguiente celda se muestra un ejemplo de una librería en la que se calcula el área y perímetro de la cara de un cubo, el área, perímetro y volumen de un cubo. "
   ]
  },
  {
   "cell_type": "raw",
   "metadata": {},
   "source": [
    "####       cubo.py     ####\n",
    "def cara_area(lado):\n",
    "\treturn lado**2\n",
    "\n",
    "def cara_perimetro(lado):\n",
    "\treturn lado*4\n",
    "\n",
    "def perimetro(lado):\n",
    "\treturn lado*12\n",
    "\n",
    "def volumen(lado):\n",
    "\treturn lado**3\n",
    "\n",
    "def area(lado):\n",
    "\treturn cara_area(lado)*6\n"
   ]
  },
  {
   "cell_type": "markdown",
   "metadata": {},
   "source": [
    "Para agregar una sóla función del módulo que se llama $\\verb|cubo.py|$ sólo basta poner al inicio la siguiente directiva:\n",
    "\n",
    "$\\verb|from cubo import cara_area|$"
   ]
  },
  {
   "cell_type": "code",
   "execution_count": 8,
   "metadata": {},
   "outputs": [
    {
     "name": "stdout",
     "output_type": "stream",
     "text": [
      "El área de la cara de un cubo cuyo lado es 2 cm es: 4\n"
     ]
    }
   ],
   "source": [
    "from cubo import cara_area\n",
    "\n",
    "print(\"El área de la cara de un cubo cuyo lado es 2 cm es: \" + str(cara_area(2)))"
   ]
  },
  {
   "cell_type": "markdown",
   "metadata": {},
   "source": [
    "Para agregar todo el módulo, se pueden agregar todas las funciones una por una, sin embargo, si el módulo tiene muchas funciones no resulta muy práctico, para poder agregar todo el módulo se debe de agregar la siguiente directiva\n",
    "\n",
    "$\\verb|from cubo import *|$"
   ]
  },
  {
   "cell_type": "code",
   "execution_count": 10,
   "metadata": {},
   "outputs": [
    {
     "name": "stdout",
     "output_type": "stream",
     "text": [
      "El área de la cara de un cubo cuyo lado es 2 cm es: 4\n",
      "El perímetro de la cara de un cubo de lado de 2cm por lado es: 8\n",
      "El perímetro de un cubo cuyos lados miden 3 cm es:  36\n",
      "El área de un cubo cuyos lados miden 3 cm es: 54\n",
      "El volumen de un cubo cuyos lados miden 3 cm es: 27\n"
     ]
    }
   ],
   "source": [
    "from cubo import *\n",
    "\n",
    "print(\"El área de la cara de un cubo cuyo lado es 2 cm es: \" + str(cara_area(2)))\n",
    "\n",
    "print(\"El perímetro de la cara de un cubo de lado de 2cm por lado es: \" + str(cara_perimetro(2)))\n",
    "\n",
    "print(\"El perímetro de un cubo cuyos lados miden 3 cm es:  \" + str(perimetro(3)))\n",
    "\n",
    "print(\"El área de un cubo cuyos lados miden 3 cm es: \" + str(area(3)))\n",
    "\n",
    "print(\"El volumen de un cubo cuyos lados miden 3 cm es: \" + str(volumen(3)))"
   ]
  },
  {
   "cell_type": "markdown",
   "metadata": {},
   "source": [
    "## 1.6 Ejercicios\n",
    "\n",
    "1. Hacer un módulo con las funciones básicas para una calculadora, suma, resta, producto y división, en la función de división si el denomidador es igual a cero debe de volver a leer el valor del denominador hasta que sea distinto de cero (se recomienda utilizar el ciclo while y el condicional if)\n",
    "\n",
    "2. Hacer una función que el usuario introduzca un número y la función debe de desplegar un triángulo de sumas, *Como ejemplo, si el usuario manda  a la función 4 debeía imprimir el siguiente arreglo*\n",
    "\n",
    "+\n",
    "\n",
    "++\n",
    "\n",
    "+++\n",
    "\n",
    "++++\n"
   ]
  },
  {
   "cell_type": "code",
   "execution_count": null,
   "metadata": {},
   "outputs": [],
   "source": []
  }
 ],
 "metadata": {
  "kernelspec": {
   "display_name": "Python 3",
   "language": "python",
   "name": "python3"
  },
  "language_info": {
   "codemirror_mode": {
    "name": "ipython",
    "version": 3
   },
   "file_extension": ".py",
   "mimetype": "text/x-python",
   "name": "python",
   "nbconvert_exporter": "python",
   "pygments_lexer": "ipython3",
   "version": "3.8.2"
  }
 },
 "nbformat": 4,
 "nbformat_minor": 4
}
